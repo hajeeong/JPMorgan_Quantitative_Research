{
 "cells": [
  {
   "cell_type": "code",
   "execution_count": 1,
   "id": "0ad727f0",
   "metadata": {},
   "outputs": [],
   "source": [
    "import pandas as pd\n",
    "import numpy as np\n",
    "from sklearn.linear_model import LogisticRegression\n",
    "from sklearn import metrics"
   ]
  },
  {
   "cell_type": "code",
   "execution_count": 3,
   "id": "15a0ecf3",
   "metadata": {},
   "outputs": [],
   "source": [
    "# 1) Load and prepare data\n",
    "df = pd.read_csv('Loan_Data.csv')"
   ]
  },
  {
   "cell_type": "code",
   "execution_count": 4,
   "id": "115e7123",
   "metadata": {},
   "outputs": [],
   "source": [
    "# 1a) Feature engineering: debt‐to‐income & payment‐to‐income\n",
    "df['debt_to_income']    = df['total_debt_outstanding'] / df['income']\n",
    "df['payment_to_income'] = df['loan_amt_outstanding'] / df['income']"
   ]
  },
  {
   "cell_type": "code",
   "execution_count": 5,
   "id": "75b9f12a",
   "metadata": {},
   "outputs": [],
   "source": [
    "# 1b) Define model inputs\n",
    "features = [\n",
    "    'credit_lines_outstanding',\n",
    "    'debt_to_income',\n",
    "    'payment_to_income',\n",
    "    'years_employed',\n",
    "    'fico_score'\n",
    "]\n",
    "X = df[features]\n",
    "y = df['default']"
   ]
  },
  {
   "cell_type": "code",
   "execution_count": 6,
   "id": "345607db",
   "metadata": {},
   "outputs": [],
   "source": [
    "# ───────────────\n",
    "# 2) Fit logistic‐regression PD model\n",
    "# ───────────────\n",
    "clf = LogisticRegression(\n",
    "    solver='liblinear',\n",
    "    tol=1e-5,\n",
    "    max_iter=10_000,\n",
    "    random_state=0\n",
    ").fit(X, y)"
   ]
  },
  {
   "cell_type": "code",
   "execution_count": 7,
   "id": "4840d13c",
   "metadata": {},
   "outputs": [
    {
     "name": "stdout",
     "output_type": "stream",
     "text": [
      "Model coefficients:\n",
      "  credit_lines_outstanding: 8.1852\n",
      "  debt_to_income      : 0.5449\n",
      "  payment_to_income   : 0.0199\n",
      "  years_employed      : -2.7763\n",
      "  fico_score          : -0.0242\n",
      "Intercept: -0.0916\n",
      "\n"
     ]
    }
   ],
   "source": [
    "# 2a) Coefficients\n",
    "print(\"Model coefficients:\")\n",
    "for feat, coef in zip(features, clf.coef_[0]):\n",
    "    print(f\"  {feat:20s}: {coef:.4f}\")\n",
    "print(f\"Intercept: {clf.intercept_[0]:.4f}\\n\")"
   ]
  },
  {
   "cell_type": "code",
   "execution_count": 9,
   "id": "cdf26b17",
   "metadata": {},
   "outputs": [
    {
     "name": "stdout",
     "output_type": "stream",
     "text": [
      "Accuracy: 0.996\n",
      "ROC AUC : 1.000\n",
      "\n"
     ]
    }
   ],
   "source": [
    "# 3) Evaluate performance on full sample\n",
    "y_pred     = clf.predict(X)\n",
    "y_prob     = clf.predict_proba(X)[:, 1]\n",
    "accuracy   = (y == y_pred).mean()\n",
    "fpr, tpr, _= metrics.roc_curve(y, y_prob)\n",
    "auc_score  = metrics.auc(fpr, tpr)\n",
    "\n",
    "print(f\"Accuracy: {accuracy:.3f}\")\n",
    "print(f\"ROC AUC : {auc_score:.3f}\\n\")"
   ]
  },
  {
   "cell_type": "code",
   "execution_count": 10,
   "id": "193af632",
   "metadata": {},
   "outputs": [],
   "source": [
    "# 4) Expected‐loss helper\n",
    "def predict_expected_loss(\n",
    "    borrower: dict,\n",
    "    loan_amount: float,\n",
    "    recovery_rate: float = 0.10\n",
    ") -> float:\n",
    "    \"\"\"\n",
    "    borrower: {feature_name: value, ...}\n",
    "    loan_amount: exposure at default\n",
    "    recovery_rate: fraction recovered if default\n",
    "    returns expected loss = PD * EAD * (1 - recovery_rate)\n",
    "    \"\"\"\n",
    "    df_new = pd.DataFrame([borrower])\n",
    "    pd_prob = clf.predict_proba(df_new[features])[0, 1]\n",
    "    return pd_prob * loan_amount * (1 - recovery_rate)"
   ]
  },
  {
   "cell_type": "code",
   "execution_count": 11,
   "id": "f87e747f",
   "metadata": {},
   "outputs": [
    {
     "name": "stdout",
     "output_type": "stream",
     "text": [
      "Sample borrower expected loss on a $15,000 loan: $0.00\n"
     ]
    }
   ],
   "source": [
    "# 5) Example usage\n",
    "sample = {\n",
    "    'credit_lines_outstanding': df.loc[0, 'credit_lines_outstanding'],\n",
    "    'debt_to_income'           : df.loc[0, 'debt_to_income'],\n",
    "    'payment_to_income'        : df.loc[0, 'payment_to_income'],\n",
    "    'years_employed'           : df.loc[0, 'years_employed'],\n",
    "    'fico_score'               : df.loc[0, 'fico_score']\n",
    "}\n",
    "loan_amt = 15_000  # e.g. $15k\n",
    "loss_est = predict_expected_loss(sample, loan_amt)\n",
    "\n",
    "print(f\"Sample borrower expected loss on a ${loan_amt:,} loan: ${loss_est:,.2f}\")"
   ]
  },
  {
   "cell_type": "code",
   "execution_count": null,
   "id": "6d6e63eb",
   "metadata": {},
   "outputs": [],
   "source": []
  }
 ],
 "metadata": {
  "kernelspec": {
   "display_name": "base",
   "language": "python",
   "name": "python3"
  },
  "language_info": {
   "codemirror_mode": {
    "name": "ipython",
    "version": 3
   },
   "file_extension": ".py",
   "mimetype": "text/x-python",
   "name": "python",
   "nbconvert_exporter": "python",
   "pygments_lexer": "ipython3",
   "version": "3.9.12"
  }
 },
 "nbformat": 4,
 "nbformat_minor": 5
}
