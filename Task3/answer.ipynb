{
 "cells": [
  {
   "cell_type": "code",
   "execution_count": 1,
   "id": "9d51201a",
   "metadata": {},
   "outputs": [],
   "source": [
    "from sklearn.linear_model import LogisticRegression\n",
    "from sklearn import metrics\n",
    "import numpy as np\n",
    "import pandas as pd"
   ]
  },
  {
   "cell_type": "code",
   "execution_count": 3,
   "id": "497ca676",
   "metadata": {},
   "outputs": [],
   "source": [
    "# Read in loan data from a CSV file\n",
    "df = pd.read_csv('Loan_Data.csv')"
   ]
  },
  {
   "cell_type": "code",
   "execution_count": 4,
   "id": "e0b66ac2",
   "metadata": {},
   "outputs": [],
   "source": [
    "# Define the variable features\n",
    "features = ['credit_lines_outstanding', 'debt_to_income', 'payment_to_income', 'years_employed', 'fico_score']"
   ]
  },
  {
   "cell_type": "code",
   "execution_count": 5,
   "id": "5ea10557",
   "metadata": {},
   "outputs": [],
   "source": [
    "# Calculate the payment_to_income ratio\n",
    "df['payment_to_income'] = df['loan_amt_outstanding'] / df['income']"
   ]
  },
  {
   "cell_type": "code",
   "execution_count": 7,
   "id": "8191beb4",
   "metadata": {},
   "outputs": [
    {
     "name": "stdout",
     "output_type": "stream",
     "text": [
      "[[ 8.18520373  0.54490854  0.01994244 -2.77630853 -0.02418391]] [-0.09162643]\n"
     ]
    }
   ],
   "source": [
    "# Calculate the debt_to_income ratio\n",
    "df['debt_to_income'] = df['total_debt_outstanding'] / df['income']\n",
    "\n",
    "clf = LogisticRegression(random_state=0, solver='liblinear', tol=1e-5, max_iter=10000).fit(df[features], df['default'])\n",
    "print(clf.coef_, clf.intercept_)"
   ]
  },
  {
   "cell_type": "code",
   "execution_count": 8,
   "id": "8b7363b5",
   "metadata": {},
   "outputs": [
    {
     "name": "stdout",
     "output_type": "stream",
     "text": [
      "0.0037\n",
      "0.9925106069101026\n"
     ]
    }
   ],
   "source": [
    "# Use the following code to check yourself\n",
    "y_pred = clf.predict(df[features])\n",
    "\n",
    "fpr, tpr, thresholds = metrics.roc_curve(df['default'], y_pred)\n",
    "print((1.0*(abs(df['default']-y_pred)).sum()) / len(df))\n",
    "print(metrics.auc(fpr, tpr))"
   ]
  },
  {
   "cell_type": "code",
   "execution_count": null,
   "id": "55f497bf",
   "metadata": {},
   "outputs": [],
   "source": []
  }
 ],
 "metadata": {
  "kernelspec": {
   "display_name": "base",
   "language": "python",
   "name": "python3"
  },
  "language_info": {
   "codemirror_mode": {
    "name": "ipython",
    "version": 3
   },
   "file_extension": ".py",
   "mimetype": "text/x-python",
   "name": "python",
   "nbconvert_exporter": "python",
   "pygments_lexer": "ipython3",
   "version": "3.9.12"
  }
 },
 "nbformat": 4,
 "nbformat_minor": 5
}
