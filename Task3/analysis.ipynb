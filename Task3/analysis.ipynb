{
 "cells": [
  {
   "cell_type": "code",
   "execution_count": 1,
   "id": "b238e060",
   "metadata": {},
   "outputs": [],
   "source": [
    "import pandas as pd\n",
    "import numpy as np\n",
    "from sklearn.model_selection import train_test_split\n",
    "from sklearn.linear_model import LogisticRegression\n",
    "from sklearn.ensemble import RandomForestClassifier\n",
    "from sklearn.metrics import roc_auc_score, classification_report"
   ]
  },
  {
   "cell_type": "code",
   "execution_count": 2,
   "id": "69c80808",
   "metadata": {},
   "outputs": [],
   "source": [
    "# ───────────────\n",
    "# 1) Load the loan data\n",
    "# ───────────────\n",
    "# Assumes 'Loan_Data.csv' is in your working directory\n",
    "df = pd.read_csv('Loan_Data.csv')"
   ]
  },
  {
   "cell_type": "code",
   "execution_count": 3,
   "id": "0c697a2b",
   "metadata": {},
   "outputs": [],
   "source": [
    "# ───────────────\n",
    "# 2) Prepare features & target\n",
    "# ───────────────\n",
    "feature_cols = [\n",
    "    'credit_lines_outstanding',\n",
    "    'loan_amt_outstanding',\n",
    "    'total_debt_outstanding',\n",
    "    'income',\n",
    "    'years_employed',\n",
    "    'fico_score'\n",
    "]\n",
    "X = df[feature_cols]\n",
    "y = df['default']  # 0 = no default, 1 = default"
   ]
  },
  {
   "cell_type": "code",
   "execution_count": 4,
   "id": "e2bf83e7",
   "metadata": {},
   "outputs": [],
   "source": [
    "# ───────────────\n",
    "# 3) Split into train/test (stratified)\n",
    "# ───────────────\n",
    "X_train, X_test, y_train, y_test = train_test_split(\n",
    "    X, y,\n",
    "    test_size=0.3,\n",
    "    random_state=42,\n",
    "    stratify=y\n",
    ")"
   ]
  },
  {
   "cell_type": "code",
   "execution_count": 7,
   "id": "f4401012",
   "metadata": {},
   "outputs": [],
   "source": [
    "# ───────────────\n",
    "# 4a) Train Logistic Regression\n",
    "# ───────────────\n",
    "lr = LogisticRegression(max_iter=1000)\n",
    "lr.fit(X_train, y_train)\n",
    "y_prob_lr = lr.predict_proba(X_test)[:, 1]\n",
    "auc_lr = roc_auc_score(y_test, y_prob_lr)"
   ]
  },
  {
   "cell_type": "code",
   "execution_count": 8,
   "id": "3dcb1106",
   "metadata": {},
   "outputs": [],
   "source": [
    "# ───────────────\n",
    "# 4b) Train Random Forest\n",
    "# ───────────────\n",
    "rf = RandomForestClassifier(n_estimators=100, random_state=42)\n",
    "rf.fit(X_train, y_train)\n",
    "y_prob_rf = rf.predict_proba(X_test)[:, 1]\n",
    "auc_rf = roc_auc_score(y_test, y_prob_rf)"
   ]
  },
  {
   "cell_type": "code",
   "execution_count": 9,
   "id": "8dd33595",
   "metadata": {},
   "outputs": [
    {
     "name": "stdout",
     "output_type": "stream",
     "text": [
      "ROC AUC scores:\n",
      "  Logistic Regression: 1.000\n",
      "  Random Forest:       1.000\n",
      "\n",
      "Logistic Regression Classification Report:\n",
      "              precision    recall  f1-score   support\n",
      "\n",
      "           0       1.00      1.00      1.00      2445\n",
      "           1       1.00      0.99      1.00       555\n",
      "\n",
      "    accuracy                           1.00      3000\n",
      "   macro avg       1.00      1.00      1.00      3000\n",
      "weighted avg       1.00      1.00      1.00      3000\n",
      "\n",
      "Random Forest Classification Report:\n",
      "              precision    recall  f1-score   support\n",
      "\n",
      "           0       1.00      1.00      1.00      2445\n",
      "           1       0.99      0.99      0.99       555\n",
      "\n",
      "    accuracy                           1.00      3000\n",
      "   macro avg       0.99      0.99      0.99      3000\n",
      "weighted avg       1.00      1.00      1.00      3000\n",
      "\n"
     ]
    }
   ],
   "source": [
    "# ───────────────\n",
    "# 5) Compare Model Performance\n",
    "# ───────────────\n",
    "print(\"ROC AUC scores:\")\n",
    "print(f\"  Logistic Regression: {auc_lr:.3f}\")\n",
    "print(f\"  Random Forest:       {auc_rf:.3f}\\n\")\n",
    "\n",
    "print(\"Logistic Regression Classification Report:\")\n",
    "print(classification_report(y_test, lr.predict(X_test)))\n",
    "\n",
    "print(\"Random Forest Classification Report:\")\n",
    "print(classification_report(y_test, rf.predict(X_test)))"
   ]
  },
  {
   "cell_type": "code",
   "execution_count": 10,
   "id": "0ab73abe",
   "metadata": {},
   "outputs": [],
   "source": [
    "# ───────────────\n",
    "# 6) Define Expected-Loss Function\n",
    "# ───────────────\n",
    "def predict_expected_loss(\n",
    "    borrower_features: dict,\n",
    "    loan_amount: float,\n",
    "    recovery_rate: float = 0.1,\n",
    "    model=lr\n",
    ") -> float:\n",
    "    \"\"\"\n",
    "    borrower_features: dict mapping feature names to values\n",
    "    loan_amount: exposure at default (EAD)\n",
    "    recovery_rate: fraction recovered on default\n",
    "    model: one of the trained classifiers (lr or rf)\n",
    "    Returns:\n",
    "      expected loss = PD * EAD * (1 - recovery_rate)\n",
    "    \"\"\"\n",
    "    X_new = pd.DataFrame([borrower_features])\n",
    "    pd_prob = model.predict_proba(X_new)[0, 1]\n",
    "    return pd_prob * loan_amount * (1 - recovery_rate)"
   ]
  },
  {
   "cell_type": "code",
   "execution_count": 11,
   "id": "b10ac240",
   "metadata": {},
   "outputs": [
    {
     "name": "stdout",
     "output_type": "stream",
     "text": [
      "\n",
      "Sample borrower expected loss on a $10,000 loan:\n",
      "  Logistic Regression model: $0.00\n",
      "  Random Forest model:       $0.00\n"
     ]
    }
   ],
   "source": [
    "# ───────────────\n",
    "# 7) Example Usage\n",
    "# ───────────────\n",
    "# Take the first test record as a sample borrower\n",
    "sample_idx = X_test.index[0]\n",
    "sample_features = X_test.loc[sample_idx].to_dict()\n",
    "sample_loan_amount = 10_000  # e.g. $10,000 new loan\n",
    "\n",
    "loss_lr = predict_expected_loss(sample_features, sample_loan_amount, model=lr)\n",
    "loss_rf = predict_expected_loss(sample_features, sample_loan_amount, model=rf)\n",
    "\n",
    "print(f\"\\nSample borrower expected loss on a ${sample_loan_amount:,} loan:\")\n",
    "print(f\"  Logistic Regression model: ${loss_lr:,.2f}\")\n",
    "print(f\"  Random Forest model:       ${loss_rf:,.2f}\")"
   ]
  }
 ],
 "metadata": {
  "kernelspec": {
   "display_name": "base",
   "language": "python",
   "name": "python3"
  },
  "language_info": {
   "codemirror_mode": {
    "name": "ipython",
    "version": 3
   },
   "file_extension": ".py",
   "mimetype": "text/x-python",
   "name": "python",
   "nbconvert_exporter": "python",
   "pygments_lexer": "ipython3",
   "version": "3.9.12"
  }
 },
 "nbformat": 4,
 "nbformat_minor": 5
}
