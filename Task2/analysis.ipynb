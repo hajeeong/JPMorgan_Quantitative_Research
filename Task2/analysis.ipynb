{
 "cells": [
  {
   "cell_type": "code",
   "execution_count": 1,
   "id": "94aed7ab",
   "metadata": {},
   "outputs": [],
   "source": [
    "import pandas as pd\n",
    "import numpy as np\n",
    "from matplotlib import pyplot as plt\n",
    "from datetime import date, timedelta"
   ]
  },
  {
   "cell_type": "code",
   "execution_count": 2,
   "id": "b361bb18",
   "metadata": {},
   "outputs": [],
   "source": [
    "# ───────────────\n",
    "# Task 1: load data & fit trend + seasonality\n",
    "# ───────────────\n",
    "df = pd.read_csv('Nat_Gas.csv', parse_dates=['Dates'])\n",
    "df = df.sort_values('Dates').reset_index(drop=True)\n",
    "prices = df['Prices'].astype(float).values"
   ]
  },
  {
   "cell_type": "code",
   "execution_count": 3,
   "id": "8e9dc243",
   "metadata": {},
   "outputs": [],
   "source": [
    "# define start/end dates\n",
    "start_date = df['Dates'].iloc[0].date()\n",
    "end_date   = df['Dates'].iloc[-1].date()"
   ]
  },
  {
   "cell_type": "code",
   "execution_count": 4,
   "id": "c7439cad",
   "metadata": {},
   "outputs": [],
   "source": [
    "# build list of month-end dates and day-counts\n",
    "months = []\n",
    "year, month = start_date.year, start_date.month\n",
    "while True:\n",
    "    # last day of this month\n",
    "    this_end = (date(year, month, 1) + timedelta(days=31)).replace(day=1) - timedelta(days=1)\n",
    "    months.append(this_end)\n",
    "    if this_end == end_date:\n",
    "        break\n",
    "    month = month % 12 + 1\n",
    "    if month == 1:\n",
    "        year += 1\n",
    "\n",
    "days_from_start = np.array([(d - start_date).days for d in months])"
   ]
  },
  {
   "cell_type": "code",
   "execution_count": 5,
   "id": "9fe5253a",
   "metadata": {},
   "outputs": [],
   "source": [
    "# 1a) Linear trend fit\n",
    "def simple_regression(x, y):\n",
    "    xbar, ybar = x.mean(), y.mean()\n",
    "    slope = ((x - xbar)*(y - ybar)).sum() / ((x - xbar)**2).sum()\n",
    "    intercept = ybar - slope*xbar\n",
    "    return slope, intercept\n",
    "\n",
    "slope, intercept = simple_regression(days_from_start, prices)"
   ]
  },
  {
   "cell_type": "code",
   "execution_count": 6,
   "id": "deb42556",
   "metadata": {},
   "outputs": [],
   "source": [
    "# 1b) Extract residuals and fit one-year seasonality\n",
    "residuals = prices - (slope*days_from_start + intercept)\n",
    "omega     = 2 * np.pi / 365.0\n",
    "sin_t     = np.sin(days_from_start * omega)\n",
    "cos_t     = np.cos(days_from_start * omega)\n",
    "\n",
    "def bilinear_regression(y, x1, x2):\n",
    "    a = (y*x1).sum() / (x1*x1).sum()\n",
    "    b = (y*x2).sum() / (x2*x2).sum()\n",
    "    return a, b\n",
    "\n",
    "u, w      = bilinear_regression(residuals, sin_t, cos_t)\n",
    "amplitude = np.hypot(u, w)\n",
    "phase     = np.arctan2(w, u)"
   ]
  },
  {
   "cell_type": "code",
   "execution_count": 7,
   "id": "1f47825b",
   "metadata": {},
   "outputs": [],
   "source": [
    "# 1c) Interpolation/extrapolation function\n",
    "def interpolate(dt):\n",
    "    d = pd.to_datetime(dt).date()\n",
    "    t = (d - start_date).days\n",
    "    trend = slope*t + intercept\n",
    "    seas  = amplitude * np.sin(omega*t + phase)\n",
    "    return trend + seas\n"
   ]
  },
  {
   "cell_type": "code",
   "execution_count": 8,
   "id": "e4e737fe",
   "metadata": {},
   "outputs": [],
   "source": [
    "# ───────────────\n",
    "# Task 2: storage-contract pricer\n",
    "# ───────────────\n",
    "def price_storage_contract(\n",
    "    inject_dates,           # list of injection date strings\n",
    "    withdraw_dates,         # list of withdrawal date strings\n",
    "    volumes,                # list of volumes (same length)\n",
    "    storage_cost_per_month, # e.g. 100_000 ($100K/mo)\n",
    "    inj_wdr_cost_per_volume,# e.g. 10_000  ($10K per unit)\n",
    "    transport_cost_per_volume # e.g. 50_000 ($50K per unit each way)\n",
    "):\n",
    "    total = 0.0\n",
    "    for inj, wdr, vol in zip(inject_dates, withdraw_dates, volumes):\n",
    "        buy_p  = interpolate(inj)\n",
    "        sell_p = interpolate(wdr)\n",
    "        leg_pnl = (sell_p - buy_p) * vol\n",
    "\n",
    "        days   = (pd.to_datetime(wdr) - pd.to_datetime(inj)).days\n",
    "        months = days / 30.0\n",
    "\n",
    "        storage_fee   = storage_cost_per_month * months\n",
    "        inj_wdr_fee   = inj_wdr_cost_per_volume * vol\n",
    "        transport_fee = transport_cost_per_volume * vol * 2\n",
    "\n",
    "        total += leg_pnl - storage_fee - inj_wdr_fee - transport_fee\n",
    "\n",
    "    return total"
   ]
  },
  {
   "cell_type": "code",
   "execution_count": 9,
   "id": "6d1308ad",
   "metadata": {},
   "outputs": [
    {
     "data": {
      "image/png": "[encoded data removed]",
      "text/plain": [
       "<Figure size 720x288 with 1 Axes>"
      ]
     },
     "metadata": {
      "needs_background": "light"
     },
     "output_type": "display_data"
    },
    {
     "name": "stdout",
     "output_type": "stream",
     "text": [
      "Net contract value: $-109,999,262,670\n"
     ]
    }
   ],
   "source": [
    "# ───────────────\n",
    "# Example: visualize & test\n",
    "# ───────────────\n",
    "if __name__ == '__main__':\n",
    "    # a) plot historical vs. model + forecast\n",
    "    all_days = pd.date_range(start=start_date, end=end_date + timedelta(days=365), freq='D')\n",
    "    plt.figure(figsize=(10,4))\n",
    "    plt.plot(df['Dates'], prices, 'o', label='Monthly data')\n",
    "    plt.plot(all_days, [interpolate(d) for d in all_days], '-', label='Model + 1yr forecast')\n",
    "    plt.xlabel('Date'); plt.ylabel('Price'); plt.legend(); plt.tight_layout()\n",
    "    plt.show()\n",
    "\n",
    "    # b) single-leg valuation\n",
    "    inj = ['2024-06-30']\n",
    "    wdr = ['2024-12-31']\n",
    "    vol = [1_000_000]   # MMBtu\n",
    "    sc  = 100_000       # $100K/month\n",
    "    iw  = 10_000        # $10K per MMBtu\n",
    "    tc  = 50_000        # $50K per MMBtu each way\n",
    "\n",
    "    val = price_storage_contract(inj, wdr, vol, sc, iw, tc)\n",
    "    print(f'Net contract value: ${val:,.0f}')"
   ]
  }
 ],
 "metadata": {
  "kernelspec": {
   "display_name": "base",
   "language": "python",
   "name": "python3"
  },
  "language_info": {
   "codemirror_mode": {
    "name": "ipython",
    "version": 3
   },
   "file_extension": ".py",
   "mimetype": "text/x-python",
   "name": "python",
   "nbconvert_exporter": "python",
   "pygments_lexer": "ipython3",
   "version": "3.9.12"
  }
 },
 "nbformat": 4,
 "nbformat_minor": 5
}
