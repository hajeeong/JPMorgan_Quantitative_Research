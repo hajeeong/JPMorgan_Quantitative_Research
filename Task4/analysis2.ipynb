{
 "cells": [
  {
   "cell_type": "code",
   "execution_count": 1,
   "id": "93ed7de1",
   "metadata": {},
   "outputs": [],
   "source": [
    "import pandas as pd\n",
    "import numpy as np"
   ]
  },
  {
   "cell_type": "code",
   "execution_count": 2,
   "id": "f699d59b",
   "metadata": {},
   "outputs": [],
   "source": [
    "def load_score_counts(path):\n",
    "    \"\"\"\n",
    "    Reads Loan_Data.csv which must contain:\n",
    "      - 'fico_score' (integer 300–850)\n",
    "      - 'default'     (0 or 1)\n",
    "    Returns two numpy arrays of length 551 (scores 300..850):\n",
    "      total_counts[i]   = number of borrowers with score = 300 + i\n",
    "      default_counts[i] = number of defaults among those borrowers\n",
    "    \"\"\"\n",
    "    df = pd.read_csv(path)\n",
    "    # initialize bins for scores 300..850\n",
    "    M = 851 - 300\n",
    "    total_counts   = np.zeros(M, dtype=int)\n",
    "    default_counts = np.zeros(M, dtype=int)\n",
    "    \n",
    "    for score, did_default in zip(df['fico_score'], df['default']):\n",
    "        idx = int(score) - 300\n",
    "        total_counts[idx]   += 1\n",
    "        default_counts[idx] += did_default\n",
    "    \n",
    "    return total_counts, default_counts"
   ]
  },
  {
   "cell_type": "code",
   "execution_count": 3,
   "id": "d40891f9",
   "metadata": {},
   "outputs": [],
   "source": [
    "def cumulative_counts(total, defaults):\n",
    "    \"\"\"\n",
    "    Given per-score total and default counts,\n",
    "    return their cumulative sums over the score range.\n",
    "    \"\"\"\n",
    "    cum_totals   = np.cumsum(total)\n",
    "    cum_defaults = np.cumsum(defaults)\n",
    "    return cum_totals, cum_defaults"
   ]
  },
  {
   "cell_type": "code",
   "execution_count": 4,
   "id": "72941ebc",
   "metadata": {},
   "outputs": [],
   "source": [
    "def log_likelihood(n, k):\n",
    "    \"\"\"\n",
    "    Binomial log-likelihood: k*ln(p) + (n-k)*ln(1-p),\n",
    "    with p = k/n. Returns 0 if p==0 or p==1 to avoid log(0).\n",
    "    We maximize this over segments.\n",
    "    \"\"\"\n",
    "    if n == 0 or k == 0 or k == n:\n",
    "        return 0.0\n",
    "    p = k / n\n",
    "    return k * np.log(p) + (n - k) * np.log(1 - p)"
   ]
  },
  {
   "cell_type": "code",
   "execution_count": 5,
   "id": "61b615a1",
   "metadata": {},
   "outputs": [],
   "source": [
    "def find_optimal_buckets(cum_totals, cum_defaults, K):\n",
    "    \"\"\"\n",
    "    Dynamic programming to split the 551-score range into K buckets,\n",
    "    maximizing total log-likelihood of defaults in each bucket.\n",
    "    Returns:\n",
    "      boundaries: list of boundary indices in [0..550], length = K+1,\n",
    "                  e.g. [0, b1, b2, ..., 550]\n",
    "    \"\"\"\n",
    "    M = len(cum_totals)  # should be 551\n",
    "    # dp[k][j] = max log-likelihood using k buckets to cover scores [0..j]\n",
    "    dp   = np.full((K+1, M), -np.inf)\n",
    "    prev = np.zeros((K+1, M), dtype=int)\n",
    "    \n",
    "    # Base case: 1 bucket covering [0..j]\n",
    "    for j in range(M):\n",
    "        dp[1, j] = log_likelihood(cum_totals[j], cum_defaults[j])\n",
    "    \n",
    "    # Fill DP for k = 2..K buckets\n",
    "    for k in range(2, K+1):\n",
    "        for j in range(k-1, M):\n",
    "            # try last bucket covering [i..j]\n",
    "            best_val = -np.inf\n",
    "            best_i   = k-1\n",
    "            for i in range(k-1, j+1):\n",
    "                n_ij = cum_totals[j] - (cum_totals[i-1] if i>0 else 0)\n",
    "                k_ij = cum_defaults[j] - (cum_defaults[i-1] if i>0 else 0)\n",
    "                ll   = log_likelihood(n_ij, k_ij)\n",
    "                val  = dp[k-1, i-1] + ll\n",
    "                if val > best_val:\n",
    "                    best_val = val\n",
    "                    best_i   = i\n",
    "            dp[k, j]   = best_val\n",
    "            prev[k, j] = best_i\n",
    "    \n",
    "    # backtrack to recover boundaries\n",
    "    boundaries = [550]  # end index (score 850)\n",
    "    k = K\n",
    "    j = 550\n",
    "    while k > 0:\n",
    "        i = prev[k, j]\n",
    "        boundaries.append(i - 1)  # end of previous bucket\n",
    "        j = i - 1\n",
    "        k -= 1\n",
    "    boundaries.append(-1)  # before start\n",
    "    boundaries = sorted(set(boundaries))\n",
    "    \n",
    "    # shift from indices to actual FICO scores\n",
    "    score_bounds = [300 + idx for idx in boundaries if idx >= 0]\n",
    "    return score_bounds"
   ]
  },
  {
   "cell_type": "code",
   "execution_count": 6,
   "id": "683fc2a8",
   "metadata": {},
   "outputs": [
    {
     "name": "stdout",
     "output_type": "stream",
     "text": [
      "Optimal FICO buckets (K=10):\n",
      "  520–552: PD ≈ 0.466\n",
      "  552–580: PD ≈ 0.342\n",
      "  580–611: PD ≈ 0.246\n",
      "  611–649: PD ≈ 0.164\n",
      "  649–696: PD ≈ 0.101\n",
      "  696–732: PD ≈ 0.058\n",
      "  732–752: PD ≈ 0.019\n",
      "  752–753: PD ≈ 0.136\n",
      "  753–850: PD ≈ 0.032\n"
     ]
    }
   ],
   "source": [
    "if __name__ == '__main__':\n",
    "    # 1) Load and aggregate\n",
    "    total_counts, default_counts = load_score_counts('Loan_Data.csv')\n",
    "    cum_totals, cum_defaults     = cumulative_counts(total_counts, default_counts)\n",
    "    \n",
    "    # 2) Choose number of buckets K\n",
    "    K = 10\n",
    "    \n",
    "    # 3) Compute optimal boundaries\n",
    "    bounds = find_optimal_buckets(cum_totals, cum_defaults, K)\n",
    "    \n",
    "    # 4) Print bucket ranges\n",
    "    print(f\"Optimal FICO buckets (K={K}):\")\n",
    "    for start, end in zip(bounds[:-1], bounds[1:]):\n",
    "        # calculate observed default rate in this bucket\n",
    "        i0 = start - 300\n",
    "        i1 = end   - 300\n",
    "        n  = cum_totals[i1] - (cum_totals[i0-1] if i0>0 else 0)\n",
    "        k  = cum_defaults[i1] - (cum_defaults[i0-1] if i0>0 else 0)\n",
    "        pd_rate = k/n if n>0 else 0.0\n",
    "        print(f\"  {start:3d}–{end:3d}: PD ≈ {pd_rate:.3f}\")"
   ]
  },
  {
   "cell_type": "markdown",
   "id": "b872672c",
   "metadata": {},
   "source": [
    "## How it works\n",
    "\n",
    "1. Load & aggregate your mortgage book from Loan_Data.csv, counting defaults by integer FICO score (300–850).\n",
    "\n",
    "2. Cumulative sums let us quickly compute defaults and totals in any score‐range [i..j].\n",
    "\n",
    "3. Log-likelihood DP finds the K contiguous score intervals that maximize the sum of binomial log-likelihoods within each bucket.\n",
    "\n",
    "4. We backtrack the DP to extract bucket boundaries, translate them back to FICO scores, and report each bucket’s empirical PD.\n",
    "\n"
   ]
  }
 ],
 "metadata": {
  "kernelspec": {
   "display_name": "base",
   "language": "python",
   "name": "python3"
  },
  "language_info": {
   "codemirror_mode": {
    "name": "ipython",
    "version": 3
   },
   "file_extension": ".py",
   "mimetype": "text/x-python",
   "name": "python",
   "nbconvert_exporter": "python",
   "pygments_lexer": "ipython3",
   "version": "3.9.12"
  }
 },
 "nbformat": 4,
 "nbformat_minor": 5
}
